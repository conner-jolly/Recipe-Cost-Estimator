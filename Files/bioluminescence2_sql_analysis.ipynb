{
 "cells": [
  {
   "cell_type": "markdown",
   "id": "5b40902b",
   "metadata": {},
   "source": [
    "\n",
    "# Bioluminescence SQL Analysis\n",
    "\n",
    "This notebook explores data related to bioluminescent organisms. It performs several SQL queries to extract meaningful insights, ranging from simple counts to complex categorization and aggregation.\n",
    "\n",
    "---\n"
   ]
  },
  {
   "cell_type": "markdown",
   "id": "27e124dc",
   "metadata": {},
   "source": [
    "## 1. Count of Sightings per Taxon"
   ]
  },
  {
   "cell_type": "markdown",
   "id": "65743cc8",
   "metadata": {},
   "source": [
    "Counting how many organisms have bioluminecent sightings is a quick way to find some of the most common bioluminecnet organisms and therefor is useful when doing research on what to look out for "
   ]
  },
  {
   "cell_type": "code",
   "execution_count": null,
   "id": "e8b7afb0",
   "metadata": {
    "vscode": {
     "languageId": "sql"
    }
   },
   "outputs": [],
   "source": [
    "\n",
    "SELECT taxon_name, COUNT(*) AS sighting_count\n",
    "FROM bioluminescent_organisms\n",
    "GROUP BY taxon_name\n",
    "ORDER BY sighting_count DESC;\n"
   ]
  },
  {
   "cell_type": "markdown",
   "id": "2e22c4f9",
   "metadata": {},
   "source": [
    "## 2. Most Common Sighting per Country"
   ]
  },
  {
   "cell_type": "markdown",
   "id": "243ca95f",
   "metadata": {},
   "source": [
    "Finding the most common sighting of bioluminecent organism is not as useful unless it is localized to the users location.  Finding the most spotted organism by country is the answer to this."
   ]
  },
  {
   "cell_type": "code",
   "execution_count": null,
   "id": "9d02dee0",
   "metadata": {
    "vscode": {
     "languageId": "sql"
    }
   },
   "outputs": [],
   "source": [
    "\n",
    "WITH ranked_taxa AS (\n",
    "    SELECT country, taxon_name, COUNT(*) AS sightings,\n",
    "           RANK() OVER (PARTITION BY country ORDER BY COUNT(*) DESC) AS rnk\n",
    "    FROM bioluminescent_organisms\n",
    "    GROUP BY country, taxon_name\n",
    ")\n",
    "SELECT country, taxon_name, sightings\n",
    "FROM ranked_taxa\n",
    "WHERE rnk = 1;\n"
   ]
  },
  {
   "cell_type": "markdown",
   "id": "7b9a5ddf",
   "metadata": {},
   "source": [
    "## 3. Max Sightings per Taxon per Month"
   ]
  },
  {
   "cell_type": "markdown",
   "id": "4df5c129",
   "metadata": {},
   "source": [
    "Another very important distinction is finding the most common month for sightings of bioluminecent organisms considering that they only apear at very specific times of the year.  This helps identify when you should go out to find your organism.  "
   ]
  },
  {
   "cell_type": "code",
   "execution_count": null,
   "id": "35642080",
   "metadata": {
    "vscode": {
     "languageId": "sql"
    }
   },
   "outputs": [],
   "source": [
    "\n",
    "WITH sightings_per_month AS (\n",
    "    SELECT taxon_name, strftime('%Y-%m', sighting_date) AS month, COUNT(*) AS sightings\n",
    "    FROM bioluminescent_organisms\n",
    "    GROUP BY taxon_name, month\n",
    "),\n",
    "ranked_months AS (\n",
    "    SELECT *, RANK() OVER (PARTITION BY taxon_name ORDER BY sightings DESC) AS rnk\n",
    "    FROM sightings_per_month\n",
    ")\n",
    "SELECT taxon_name, month, sightings\n",
    "FROM ranked_months\n",
    "WHERE rnk = 1;\n"
   ]
  },
  {
   "cell_type": "markdown",
   "id": "2bb9adb7",
   "metadata": {},
   "source": [
    "## 4. Categorizing Organisms by Light Level"
   ]
  },
  {
   "cell_type": "markdown",
   "id": "50b6c7c9",
   "metadata": {},
   "source": [
    "Here we merge a table of light level for each organism to find which ones are bright and therefor easier to spot when searching. "
   ]
  },
  {
   "cell_type": "code",
   "execution_count": null,
   "id": "2acd5ce9",
   "metadata": {
    "vscode": {
     "languageId": "sql"
    }
   },
   "outputs": [],
   "source": [
    "\n",
    "WITH merged AS (\n",
    "    SELECT b.*, l.lumens\n",
    "    FROM bioluminescent_organisms b\n",
    "    JOIN lumens_table l ON b.taxon_name = l.taxon_id\n",
    "),\n",
    "stats AS (\n",
    "    SELECT \n",
    "        PERCENTILE_CONT(0.33) WITHIN GROUP (ORDER BY lumens) AS pct33,\n",
    "        PERCENTILE_CONT(0.66) WITHIN GROUP (ORDER BY lumens) AS pct66\n",
    "    FROM merged\n",
    ")\n",
    "SELECT m.taxon_name, m.lumens,\n",
    "       CASE \n",
    "           WHEN m.lumens <= s.pct33 THEN 'weak'\n",
    "           WHEN m.lumens <= s.pct66 THEN 'moderate'\n",
    "           ELSE 'strong'\n",
    "       END AS light_category\n",
    "FROM merged m, stats s;\n"
   ]
  }
 ],
 "metadata": {
  "language_info": {
   "name": "python"
  }
 },
 "nbformat": 4,
 "nbformat_minor": 5
}
